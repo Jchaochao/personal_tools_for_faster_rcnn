{
 "cells": [
  {
   "cell_type": "code",
   "execution_count": 87,
   "metadata": {},
   "outputs": [],
   "source": [
    "import os\n",
    "import pprint\n",
    "import json\n",
    "import cv2\n",
    "from PIL import Image\n",
    "import matplotlib.pyplot as plt"
   ]
  },
  {
   "cell_type": "code",
   "execution_count": 88,
   "metadata": {},
   "outputs": [
    {
     "name": "stdout",
     "output_type": "stream",
     "text": [
      "3\n"
     ]
    }
   ],
   "source": [
    "images = open(r'C:\\Users\\EDZ\\Desktop\\try_fr\\car-try\\car-try\\images_val.json')\n",
    "names = json.load(images)\n",
    "print(len(names))"
   ]
  },
  {
   "cell_type": "code",
   "execution_count": 89,
   "metadata": {},
   "outputs": [
    {
     "name": "stdout",
     "output_type": "stream",
     "text": [
      "C:\\Users\\EDZ\\Desktop\\try_fr\\car-try\\car-try\n",
      "C:\\Users\\EDZ\\Desktop\\try_fr\\car-try\\car-try\\0913GH010301.mp41.jpg\n",
      "C:\\Users\\EDZ\\Desktop\\try_fr\\car-try\\car-try\\0913GH170301.mp41.jpg\n",
      "C:\\Users\\EDZ\\Desktop\\try_fr\\car-try\\car-try\\0913GH310301.mp40.jpg\n"
     ]
    }
   ],
   "source": [
    "dir_path = r'C:\\Users\\EDZ\\Desktop\\try_fr\\car-try\\car-try'\n",
    "dir_path = os.path.abspath(dir_path) \n",
    "print(dir_path)\n",
    "\n",
    "json_list_origin = []\n",
    "\n",
    "for name in names:\n",
    "    name_append = name + '.json'\n",
    "    \n",
    "    cur_image_path = os.path.join(dir_path,name)\n",
    "    cur_json_path = os.path.join(dir_path,name_append)\n",
    "    \n",
    "    print(cur_image_path)\n",
    "    cur_image_file = Image.open(cur_image_path)\n",
    "    cur_json_file = open(cur_json_path)\n",
    "    cur_json = json.load(cur_json_file)\n",
    "    \n",
    "    cur_json['file_name'] = name\n",
    "    size = list(cur_image_file.size)\n",
    "    size.reverse()\n",
    "    cur_json['size'] = size\n",
    "    json_list_origin.append(cur_json)\n",
    "    \n",
    "    cur_image_file.close()\n",
    "    cur_json_file.close()    "
   ]
  },
  {
   "cell_type": "code",
   "execution_count": 90,
   "metadata": {},
   "outputs": [],
   "source": [
    "#init new json file and its contents\n",
    "json_new = {}\n",
    "\n",
    "info = {}\n",
    "licenses = []\n",
    "images = []\n",
    "annotations = []\n",
    "categories = []"
   ]
  },
  {
   "cell_type": "code",
   "execution_count": 91,
   "metadata": {},
   "outputs": [
    {
     "name": "stdout",
     "output_type": "stream",
     "text": [
      "57\n",
      "115\n",
      "175\n"
     ]
    }
   ],
   "source": [
    "#fill in these 5 kinds of contents above\n",
    "#info\n",
    "info['contributor'] = 'Momenta.ai'\n",
    "info['date_created'] = 'Sat Oct 29 21:07:35'\n",
    "info['description'] = 'This is unstable 1.0 version of the 2018 Momenta car dateset'\n",
    "info['url'] = 'https://momenta.ai'\n",
    "info['version'] = '1.0'\n",
    "info['year'] = '2018'\n",
    "\n",
    "#licenses\n",
    "license = {'id': 1, 'name': 'Momenta Confidential','url': 'https://momenta.ai'}\n",
    "licenses.append(license)\n",
    "\n",
    "#categories\n",
    "category = {'id':1, 'name':'car_box_trainset', 'supercategory':'car_box_trainset'}\n",
    "categories.append(category)\n",
    "\n",
    "#images\n",
    "box_idx_base = 0\n",
    "for img_idx,item in enumerate(json_list_origin):\n",
    "    item_new = {}\n",
    "    item_new['filename'] = item['file_name']\n",
    "    item_new['id'] = img_idx\n",
    "    item_new['height'] = item['size'][0]\n",
    "    item_new['width'] = item['size'][1]\n",
    "    item_new['license'] = 1\n",
    "    images.append(item_new)\n",
    "    \n",
    "    #annotations\n",
    "    for box_idx,box in enumerate(item['Rects']):\n",
    "        box_new = {}\n",
    "        x = box['x'] \n",
    "        y = box['y']\n",
    "        w = box['w']\n",
    "        h = box['h']\n",
    "        box_new['area'] = w * h\n",
    "        box_new['bbox'] = [ x, y, w, h]\n",
    "        box_new['category_id'] = 1\n",
    "        box_new['hide'] = 0\n",
    "        box_new['id'] = box_idx_base + box_idx\n",
    "        box_new['image_id'] = img_idx\n",
    "        box_new['iscrowd'] = 0\n",
    "        annotations.append(box_new)\n",
    "        \n",
    "    box_idx_base = box_idx_base + len(item['Rects'])\n",
    "    print(box_idx_base)"
   ]
  },
  {
   "cell_type": "code",
   "execution_count": 92,
   "metadata": {},
   "outputs": [],
   "source": [
    "json_new['info'] = info\n",
    "json_new['licenses'] = licenses\n",
    "json_new['images'] = images\n",
    "json_new['annotations'] = annotations\n",
    "json_new['categories'] = categories"
   ]
  },
  {
   "cell_type": "code",
   "execution_count": 93,
   "metadata": {},
   "outputs": [],
   "source": [
    "with open(r'D:\\git\\Untitled Folder\\out_json_new_val.json','w') as f:\n",
    "    json.dump(json_new,f)\n",
    "    f.close()"
   ]
  },
  {
   "cell_type": "code",
   "execution_count": null,
   "metadata": {},
   "outputs": [],
   "source": []
  }
 ],
 "metadata": {
  "kernelspec": {
   "display_name": "Python 3",
   "language": "python",
   "name": "python3"
  },
  "language_info": {
   "codemirror_mode": {
    "name": "ipython",
    "version": 3
   },
   "file_extension": ".py",
   "mimetype": "text/x-python",
   "name": "python",
   "nbconvert_exporter": "python",
   "pygments_lexer": "ipython3",
   "version": "3.6.5"
  }
 },
 "nbformat": 4,
 "nbformat_minor": 2
}
